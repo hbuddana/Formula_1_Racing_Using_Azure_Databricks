{
 "cells": [
  {
   "cell_type": "markdown",
   "metadata": {
    "application/vnd.databricks.v1+cell": {
     "cellMetadata": {},
     "inputWidgets": {},
     "nuid": "5af1e6fd-5425-4eaa-8e40-d30ac6ce1af7",
     "showTitle": false,
     "title": ""
    }
   },
   "source": [
    "#### Produce driver standings"
   ]
  },
  {
   "cell_type": "code",
   "execution_count": 0,
   "metadata": {
    "application/vnd.databricks.v1+cell": {
     "cellMetadata": {
      "byteLimit": 2048000,
      "rowLimit": 10000
     },
     "inputWidgets": {},
     "nuid": "3b559bee-93cc-4a3d-bf6b-38f29915e9af",
     "showTitle": false,
     "title": ""
    }
   },
   "outputs": [],
   "source": [
    "%run \"../includes/configuration\""
   ]
  },
  {
   "cell_type": "code",
   "execution_count": 0,
   "metadata": {
    "application/vnd.databricks.v1+cell": {
     "cellMetadata": {
      "byteLimit": 2048000,
      "rowLimit": 10000
     },
     "inputWidgets": {},
     "nuid": "dfc632d3-4e20-4593-8a6e-b8ed99a8e0cf",
     "showTitle": false,
     "title": ""
    }
   },
   "outputs": [],
   "source": [
    "race_results_df = spark.read.parquet(f\"{presentation_folder_path}/race_results\")\n"
   ]
  },
  {
   "cell_type": "code",
   "execution_count": 0,
   "metadata": {
    "application/vnd.databricks.v1+cell": {
     "cellMetadata": {
      "byteLimit": 2048000,
      "rowLimit": 10000
     },
     "inputWidgets": {},
     "nuid": "d6dbbac3-0952-4d0c-b02b-67b745f4e091",
     "showTitle": false,
     "title": ""
    }
   },
   "outputs": [],
   "source": [
    "from pyspark.sql.functions import sum, when, count, col\n"
   ]
  },
  {
   "cell_type": "code",
   "execution_count": 0,
   "metadata": {
    "application/vnd.databricks.v1+cell": {
     "cellMetadata": {
      "byteLimit": 2048000,
      "rowLimit": 10000
     },
     "inputWidgets": {},
     "nuid": "a5c0a2de-57ac-4372-bd14-8ce4763bd060",
     "showTitle": false,
     "title": ""
    }
   },
   "outputs": [],
   "source": [
    "driver_standings_df = race_results_df \\\n",
    "    .groupBy(\"race_year\",\"driver_name\",\"driver_nationality\", \"team\") \\\n",
    "        .agg(sum(\"points\").alias(\"total_points\"),\n",
    "             count(when(col(\"position\")==1,True)).alias(\"wins\"))"
   ]
  },
  {
   "cell_type": "code",
   "execution_count": 0,
   "metadata": {
    "application/vnd.databricks.v1+cell": {
     "cellMetadata": {
      "byteLimit": 2048000,
      "rowLimit": 10000
     },
     "inputWidgets": {},
     "nuid": "268bfb6f-12b2-4859-b419-37b1c22b9007",
     "showTitle": false,
     "title": ""
    }
   },
   "outputs": [],
   "source": [
    "from pyspark.sql.functions import desc\n"
   ]
  },
  {
   "cell_type": "code",
   "execution_count": 0,
   "metadata": {
    "application/vnd.databricks.v1+cell": {
     "cellMetadata": {
      "byteLimit": 2048000,
      "rowLimit": 10000
     },
     "inputWidgets": {},
     "nuid": "900d3035-7865-4170-8267-86c48811f149",
     "showTitle": false,
     "title": ""
    }
   },
   "outputs": [
    {
     "output_type": "display_data",
     "data": {
      "text/html": [
       "<style scoped>\n",
       "  .table-result-container {\n",
       "    max-height: 300px;\n",
       "    overflow: auto;\n",
       "  }\n",
       "  table, th, td {\n",
       "    border: 1px solid black;\n",
       "    border-collapse: collapse;\n",
       "  }\n",
       "  th, td {\n",
       "    padding: 5px;\n",
       "  }\n",
       "  th {\n",
       "    text-align: left;\n",
       "  }\n",
       "</style><div class='table-result-container'><table class='table-result'><thead style='background-color: white'><tr><th>race_year</th><th>driver_name</th><th>driver_nationality</th><th>team</th><th>total_points</th><th>wins</th></tr></thead><tbody><tr><td>2020</td><td>Lewis Hamilton</td><td>British</td><td>Mercedes</td><td>347.0</td><td>11</td></tr><tr><td>2020</td><td>Valtteri Bottas</td><td>Finnish</td><td>Mercedes</td><td>223.0</td><td>2</td></tr><tr><td>2020</td><td>Max Verstappen</td><td>Dutch</td><td>Red Bull</td><td>214.0</td><td>2</td></tr><tr><td>2020</td><td>Sergio Pérez</td><td>Mexican</td><td>Racing Point</td><td>125.0</td><td>1</td></tr><tr><td>2020</td><td>Daniel Ricciardo</td><td>Australian</td><td>Renault</td><td>119.0</td><td>0</td></tr><tr><td>2020</td><td>Carlos Sainz</td><td>Spanish</td><td>McLaren</td><td>105.0</td><td>0</td></tr><tr><td>2020</td><td>Alexander Albon</td><td>Thai</td><td>Red Bull</td><td>105.0</td><td>0</td></tr><tr><td>2020</td><td>Charles Leclerc</td><td>Monegasque</td><td>Ferrari</td><td>98.0</td><td>0</td></tr><tr><td>2020</td><td>Lando Norris</td><td>British</td><td>McLaren</td><td>97.0</td><td>0</td></tr><tr><td>2020</td><td>Lance Stroll</td><td>Canadian</td><td>Racing Point</td><td>75.0</td><td>0</td></tr><tr><td>2020</td><td>Pierre Gasly</td><td>French</td><td>AlphaTauri</td><td>75.0</td><td>1</td></tr><tr><td>2020</td><td>Esteban Ocon</td><td>French</td><td>Renault</td><td>62.0</td><td>0</td></tr><tr><td>2020</td><td>Sebastian Vettel</td><td>German</td><td>Ferrari</td><td>33.0</td><td>0</td></tr><tr><td>2020</td><td>Daniil Kvyat</td><td>Russian</td><td>AlphaTauri</td><td>32.0</td><td>0</td></tr><tr><td>2020</td><td>Nico Hülkenberg</td><td>German</td><td>Racing Point</td><td>10.0</td><td>0</td></tr><tr><td>2020</td><td>Antonio Giovinazzi</td><td>Italian</td><td>Alfa Romeo</td><td>4.0</td><td>0</td></tr><tr><td>2020</td><td>Kimi Räikkönen</td><td>Finnish</td><td>Alfa Romeo</td><td>4.0</td><td>0</td></tr><tr><td>2020</td><td>George Russell</td><td>British</td><td>Mercedes</td><td>3.0</td><td>0</td></tr><tr><td>2020</td><td>Romain Grosjean</td><td>French</td><td>Haas F1 Team</td><td>2.0</td><td>0</td></tr><tr><td>2020</td><td>Kevin Magnussen</td><td>Danish</td><td>Haas F1 Team</td><td>1.0</td><td>0</td></tr><tr><td>2020</td><td>Nicholas Latifi</td><td>Canadian</td><td>Williams</td><td>0.0</td><td>0</td></tr><tr><td>2020</td><td>Jack Aitken</td><td>British</td><td>Williams</td><td>0.0</td><td>0</td></tr><tr><td>2020</td><td>Pietro Fittipaldi</td><td>Brazilian</td><td>Haas F1 Team</td><td>0.0</td><td>0</td></tr><tr><td>2020</td><td>George Russell</td><td>British</td><td>Williams</td><td>0.0</td><td>0</td></tr></tbody></table></div>"
      ]
     },
     "metadata": {
      "application/vnd.databricks.v1+output": {
       "addedWidgets": {},
       "aggData": [],
       "aggError": "",
       "aggOverflow": false,
       "aggSchema": [],
       "aggSeriesLimitReached": false,
       "aggType": "",
       "arguments": {},
       "columnCustomDisplayInfos": {},
       "data": [
        [
         2020,
         "Lewis Hamilton",
         "British",
         "Mercedes",
         347.0,
         11
        ],
        [
         2020,
         "Valtteri Bottas",
         "Finnish",
         "Mercedes",
         223.0,
         2
        ],
        [
         2020,
         "Max Verstappen",
         "Dutch",
         "Red Bull",
         214.0,
         2
        ],
        [
         2020,
         "Sergio Pérez",
         "Mexican",
         "Racing Point",
         125.0,
         1
        ],
        [
         2020,
         "Daniel Ricciardo",
         "Australian",
         "Renault",
         119.0,
         0
        ],
        [
         2020,
         "Carlos Sainz",
         "Spanish",
         "McLaren",
         105.0,
         0
        ],
        [
         2020,
         "Alexander Albon",
         "Thai",
         "Red Bull",
         105.0,
         0
        ],
        [
         2020,
         "Charles Leclerc",
         "Monegasque",
         "Ferrari",
         98.0,
         0
        ],
        [
         2020,
         "Lando Norris",
         "British",
         "McLaren",
         97.0,
         0
        ],
        [
         2020,
         "Lance Stroll",
         "Canadian",
         "Racing Point",
         75.0,
         0
        ],
        [
         2020,
         "Pierre Gasly",
         "French",
         "AlphaTauri",
         75.0,
         1
        ],
        [
         2020,
         "Esteban Ocon",
         "French",
         "Renault",
         62.0,
         0
        ],
        [
         2020,
         "Sebastian Vettel",
         "German",
         "Ferrari",
         33.0,
         0
        ],
        [
         2020,
         "Daniil Kvyat",
         "Russian",
         "AlphaTauri",
         32.0,
         0
        ],
        [
         2020,
         "Nico Hülkenberg",
         "German",
         "Racing Point",
         10.0,
         0
        ],
        [
         2020,
         "Antonio Giovinazzi",
         "Italian",
         "Alfa Romeo",
         4.0,
         0
        ],
        [
         2020,
         "Kimi Räikkönen",
         "Finnish",
         "Alfa Romeo",
         4.0,
         0
        ],
        [
         2020,
         "George Russell",
         "British",
         "Mercedes",
         3.0,
         0
        ],
        [
         2020,
         "Romain Grosjean",
         "French",
         "Haas F1 Team",
         2.0,
         0
        ],
        [
         2020,
         "Kevin Magnussen",
         "Danish",
         "Haas F1 Team",
         1.0,
         0
        ],
        [
         2020,
         "Nicholas Latifi",
         "Canadian",
         "Williams",
         0.0,
         0
        ],
        [
         2020,
         "Jack Aitken",
         "British",
         "Williams",
         0.0,
         0
        ],
        [
         2020,
         "Pietro Fittipaldi",
         "Brazilian",
         "Haas F1 Team",
         0.0,
         0
        ],
        [
         2020,
         "George Russell",
         "British",
         "Williams",
         0.0,
         0
        ]
       ],
       "datasetInfos": [],
       "dbfsResultPath": null,
       "isJsonSchema": true,
       "metadata": {},
       "overflow": false,
       "plotOptions": {
        "customPlotOptions": {},
        "displayType": "table",
        "pivotAggregation": null,
        "pivotColumns": null,
        "xColumns": null,
        "yColumns": null
       },
       "removedWidgets": [],
       "schema": [
        {
         "metadata": "{}",
         "name": "race_year",
         "type": "\"integer\""
        },
        {
         "metadata": "{}",
         "name": "driver_name",
         "type": "\"string\""
        },
        {
         "metadata": "{}",
         "name": "driver_nationality",
         "type": "\"string\""
        },
        {
         "metadata": "{}",
         "name": "team",
         "type": "\"string\""
        },
        {
         "metadata": "{}",
         "name": "total_points",
         "type": "\"double\""
        },
        {
         "metadata": "{}",
         "name": "wins",
         "type": "\"long\""
        }
       ],
       "type": "table"
      }
     },
     "output_type": "display_data"
    }
   ],
   "source": [
    "display(driver_standings_df.filter(\"race_year = 2020\").orderBy(desc(\"total_points\")))\n"
   ]
  },
  {
   "cell_type": "code",
   "execution_count": 0,
   "metadata": {
    "application/vnd.databricks.v1+cell": {
     "cellMetadata": {
      "byteLimit": 2048000,
      "rowLimit": 10000
     },
     "inputWidgets": {},
     "nuid": "3b650856-da2d-492b-bbd1-5ea5e99f3756",
     "showTitle": false,
     "title": ""
    }
   },
   "outputs": [],
   "source": [
    "from pyspark.sql.window import Window\n",
    "from pyspark.sql.functions import desc, rank, asc"
   ]
  },
  {
   "cell_type": "code",
   "execution_count": 0,
   "metadata": {
    "application/vnd.databricks.v1+cell": {
     "cellMetadata": {
      "byteLimit": 2048000,
      "rowLimit": 10000
     },
     "inputWidgets": {},
     "nuid": "2c2eda08-8240-4e6c-91d3-7753723a93d9",
     "showTitle": false,
     "title": ""
    }
   },
   "outputs": [],
   "source": [
    "driver_rank_spec = Window.partitionBy(\"race_year\").orderBy(desc(\"total_points\"), desc(\"wins\"))\n",
    "final_df = driver_standings_df.withColumn(\"rank\", rank().over(driver_rank_spec))"
   ]
  },
  {
   "cell_type": "code",
   "execution_count": 0,
   "metadata": {
    "application/vnd.databricks.v1+cell": {
     "cellMetadata": {
      "byteLimit": 2048000,
      "rowLimit": 10000
     },
     "inputWidgets": {},
     "nuid": "e44f3080-acb6-4499-94ba-abb516ad94c8",
     "showTitle": false,
     "title": ""
    }
   },
   "outputs": [
    {
     "output_type": "display_data",
     "data": {
      "text/html": [
       "<style scoped>\n",
       "  .table-result-container {\n",
       "    max-height: 300px;\n",
       "    overflow: auto;\n",
       "  }\n",
       "  table, th, td {\n",
       "    border: 1px solid black;\n",
       "    border-collapse: collapse;\n",
       "  }\n",
       "  th, td {\n",
       "    padding: 5px;\n",
       "  }\n",
       "  th {\n",
       "    text-align: left;\n",
       "  }\n",
       "</style><div class='table-result-container'><table class='table-result'><thead style='background-color: white'><tr><th>race_year</th><th>driver_name</th><th>driver_nationality</th><th>team</th><th>total_points</th><th>wins</th><th>rank</th></tr></thead><tbody><tr><td>2020</td><td>Lewis Hamilton</td><td>British</td><td>Mercedes</td><td>347.0</td><td>11</td><td>1</td></tr><tr><td>2020</td><td>Valtteri Bottas</td><td>Finnish</td><td>Mercedes</td><td>223.0</td><td>2</td><td>2</td></tr><tr><td>2020</td><td>Max Verstappen</td><td>Dutch</td><td>Red Bull</td><td>214.0</td><td>2</td><td>3</td></tr><tr><td>2020</td><td>Sergio Pérez</td><td>Mexican</td><td>Racing Point</td><td>125.0</td><td>1</td><td>4</td></tr><tr><td>2020</td><td>Daniel Ricciardo</td><td>Australian</td><td>Renault</td><td>119.0</td><td>0</td><td>5</td></tr><tr><td>2020</td><td>Carlos Sainz</td><td>Spanish</td><td>McLaren</td><td>105.0</td><td>0</td><td>6</td></tr><tr><td>2020</td><td>Alexander Albon</td><td>Thai</td><td>Red Bull</td><td>105.0</td><td>0</td><td>6</td></tr><tr><td>2020</td><td>Charles Leclerc</td><td>Monegasque</td><td>Ferrari</td><td>98.0</td><td>0</td><td>8</td></tr><tr><td>2020</td><td>Lando Norris</td><td>British</td><td>McLaren</td><td>97.0</td><td>0</td><td>9</td></tr><tr><td>2020</td><td>Pierre Gasly</td><td>French</td><td>AlphaTauri</td><td>75.0</td><td>1</td><td>10</td></tr><tr><td>2020</td><td>Lance Stroll</td><td>Canadian</td><td>Racing Point</td><td>75.0</td><td>0</td><td>11</td></tr><tr><td>2020</td><td>Esteban Ocon</td><td>French</td><td>Renault</td><td>62.0</td><td>0</td><td>12</td></tr><tr><td>2020</td><td>Sebastian Vettel</td><td>German</td><td>Ferrari</td><td>33.0</td><td>0</td><td>13</td></tr><tr><td>2020</td><td>Daniil Kvyat</td><td>Russian</td><td>AlphaTauri</td><td>32.0</td><td>0</td><td>14</td></tr><tr><td>2020</td><td>Nico Hülkenberg</td><td>German</td><td>Racing Point</td><td>10.0</td><td>0</td><td>15</td></tr><tr><td>2020</td><td>Antonio Giovinazzi</td><td>Italian</td><td>Alfa Romeo</td><td>4.0</td><td>0</td><td>16</td></tr><tr><td>2020</td><td>Kimi Räikkönen</td><td>Finnish</td><td>Alfa Romeo</td><td>4.0</td><td>0</td><td>16</td></tr><tr><td>2020</td><td>George Russell</td><td>British</td><td>Mercedes</td><td>3.0</td><td>0</td><td>18</td></tr><tr><td>2020</td><td>Romain Grosjean</td><td>French</td><td>Haas F1 Team</td><td>2.0</td><td>0</td><td>19</td></tr><tr><td>2020</td><td>Kevin Magnussen</td><td>Danish</td><td>Haas F1 Team</td><td>1.0</td><td>0</td><td>20</td></tr><tr><td>2020</td><td>Nicholas Latifi</td><td>Canadian</td><td>Williams</td><td>0.0</td><td>0</td><td>21</td></tr><tr><td>2020</td><td>Jack Aitken</td><td>British</td><td>Williams</td><td>0.0</td><td>0</td><td>21</td></tr><tr><td>2020</td><td>Pietro Fittipaldi</td><td>Brazilian</td><td>Haas F1 Team</td><td>0.0</td><td>0</td><td>21</td></tr><tr><td>2020</td><td>George Russell</td><td>British</td><td>Williams</td><td>0.0</td><td>0</td><td>21</td></tr></tbody></table></div>"
      ]
     },
     "metadata": {
      "application/vnd.databricks.v1+output": {
       "addedWidgets": {},
       "aggData": [],
       "aggError": "",
       "aggOverflow": false,
       "aggSchema": [],
       "aggSeriesLimitReached": false,
       "aggType": "",
       "arguments": {},
       "columnCustomDisplayInfos": {},
       "data": [
        [
         2020,
         "Lewis Hamilton",
         "British",
         "Mercedes",
         347.0,
         11,
         1
        ],
        [
         2020,
         "Valtteri Bottas",
         "Finnish",
         "Mercedes",
         223.0,
         2,
         2
        ],
        [
         2020,
         "Max Verstappen",
         "Dutch",
         "Red Bull",
         214.0,
         2,
         3
        ],
        [
         2020,
         "Sergio Pérez",
         "Mexican",
         "Racing Point",
         125.0,
         1,
         4
        ],
        [
         2020,
         "Daniel Ricciardo",
         "Australian",
         "Renault",
         119.0,
         0,
         5
        ],
        [
         2020,
         "Carlos Sainz",
         "Spanish",
         "McLaren",
         105.0,
         0,
         6
        ],
        [
         2020,
         "Alexander Albon",
         "Thai",
         "Red Bull",
         105.0,
         0,
         6
        ],
        [
         2020,
         "Charles Leclerc",
         "Monegasque",
         "Ferrari",
         98.0,
         0,
         8
        ],
        [
         2020,
         "Lando Norris",
         "British",
         "McLaren",
         97.0,
         0,
         9
        ],
        [
         2020,
         "Pierre Gasly",
         "French",
         "AlphaTauri",
         75.0,
         1,
         10
        ],
        [
         2020,
         "Lance Stroll",
         "Canadian",
         "Racing Point",
         75.0,
         0,
         11
        ],
        [
         2020,
         "Esteban Ocon",
         "French",
         "Renault",
         62.0,
         0,
         12
        ],
        [
         2020,
         "Sebastian Vettel",
         "German",
         "Ferrari",
         33.0,
         0,
         13
        ],
        [
         2020,
         "Daniil Kvyat",
         "Russian",
         "AlphaTauri",
         32.0,
         0,
         14
        ],
        [
         2020,
         "Nico Hülkenberg",
         "German",
         "Racing Point",
         10.0,
         0,
         15
        ],
        [
         2020,
         "Antonio Giovinazzi",
         "Italian",
         "Alfa Romeo",
         4.0,
         0,
         16
        ],
        [
         2020,
         "Kimi Räikkönen",
         "Finnish",
         "Alfa Romeo",
         4.0,
         0,
         16
        ],
        [
         2020,
         "George Russell",
         "British",
         "Mercedes",
         3.0,
         0,
         18
        ],
        [
         2020,
         "Romain Grosjean",
         "French",
         "Haas F1 Team",
         2.0,
         0,
         19
        ],
        [
         2020,
         "Kevin Magnussen",
         "Danish",
         "Haas F1 Team",
         1.0,
         0,
         20
        ],
        [
         2020,
         "Nicholas Latifi",
         "Canadian",
         "Williams",
         0.0,
         0,
         21
        ],
        [
         2020,
         "Jack Aitken",
         "British",
         "Williams",
         0.0,
         0,
         21
        ],
        [
         2020,
         "Pietro Fittipaldi",
         "Brazilian",
         "Haas F1 Team",
         0.0,
         0,
         21
        ],
        [
         2020,
         "George Russell",
         "British",
         "Williams",
         0.0,
         0,
         21
        ]
       ],
       "datasetInfos": [],
       "dbfsResultPath": null,
       "isJsonSchema": true,
       "metadata": {},
       "overflow": false,
       "plotOptions": {
        "customPlotOptions": {},
        "displayType": "table",
        "pivotAggregation": null,
        "pivotColumns": null,
        "xColumns": null,
        "yColumns": null
       },
       "removedWidgets": [],
       "schema": [
        {
         "metadata": "{}",
         "name": "race_year",
         "type": "\"integer\""
        },
        {
         "metadata": "{}",
         "name": "driver_name",
         "type": "\"string\""
        },
        {
         "metadata": "{}",
         "name": "driver_nationality",
         "type": "\"string\""
        },
        {
         "metadata": "{}",
         "name": "team",
         "type": "\"string\""
        },
        {
         "metadata": "{}",
         "name": "total_points",
         "type": "\"double\""
        },
        {
         "metadata": "{}",
         "name": "wins",
         "type": "\"long\""
        },
        {
         "metadata": "{}",
         "name": "rank",
         "type": "\"integer\""
        }
       ],
       "type": "table"
      }
     },
     "output_type": "display_data"
    }
   ],
   "source": [
    "display(final_df.filter(\"race_year = 2020\"))\n"
   ]
  },
  {
   "cell_type": "code",
   "execution_count": 0,
   "metadata": {
    "application/vnd.databricks.v1+cell": {
     "cellMetadata": {
      "byteLimit": 2048000,
      "rowLimit": 10000
     },
     "inputWidgets": {},
     "nuid": "d44e64e1-28ad-49fc-ae6c-915a00cb5c77",
     "showTitle": false,
     "title": ""
    }
   },
   "outputs": [],
   "source": [
    "final_df.write.mode(\"overwrite\").parquet(f\"{presentation_folder_path}/driver_standings\")\n"
   ]
  },
  {
   "cell_type": "code",
   "execution_count": 0,
   "metadata": {
    "application/vnd.databricks.v1+cell": {
     "cellMetadata": {},
     "inputWidgets": {},
     "nuid": "bfd20df4-9ab8-4e44-b7a5-5213442ae4b7",
     "showTitle": false,
     "title": ""
    }
   },
   "outputs": [],
   "source": []
  }
 ],
 "metadata": {
  "application/vnd.databricks.v1+notebook": {
   "dashboards": [],
   "language": "python",
   "notebookMetadata": {
    "pythonIndentUnit": 4
   },
   "notebookName": "2.drivers_standing",
   "widgets": {}
  }
 },
 "nbformat": 4,
 "nbformat_minor": 0
}
