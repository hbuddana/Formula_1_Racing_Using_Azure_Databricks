{
 "cells": [
  {
   "cell_type": "markdown",
   "metadata": {
    "application/vnd.databricks.v1+cell": {
     "cellMetadata": {},
     "inputWidgets": {},
     "nuid": "d3b5a909-f1b9-40ae-aa91-740fb6516eac",
     "showTitle": false,
     "title": ""
    }
   },
   "source": [
    "#### Step 1 - Read the JSOn file using the spark dataframe reader API"
   ]
  },
  {
   "cell_type": "code",
   "execution_count": 0,
   "metadata": {
    "application/vnd.databricks.v1+cell": {
     "cellMetadata": {
      "byteLimit": 2048000,
      "rowLimit": 10000
     },
     "inputWidgets": {},
     "nuid": "a22e9073-0070-47bf-b71a-a5a214fa85f5",
     "showTitle": false,
     "title": ""
    }
   },
   "outputs": [],
   "source": [
    "from pyspark.sql.types import StructType, StructField, IntegerType, StringType\n",
    "\n",
    "\n",
    "\n",
    "pit_stops_schema = StructType(fields=[StructField(\"raceId\", IntegerType(), False),\n",
    "                                      StructField(\"driverId\", IntegerType(), True),\n",
    "                                      StructField(\"stop\", StringType(), True),\n",
    "                                      StructField(\"lap\", IntegerType(), True),\n",
    "                                      StructField(\"time\", StringType(), True),\n",
    "                                      StructField(\"duration\", StringType(), True),\n",
    "                                      StructField(\"milliseconds\", IntegerType(), True)\n",
    "                                     ])\n"
   ]
  },
  {
   "cell_type": "code",
   "execution_count": 0,
   "metadata": {
    "application/vnd.databricks.v1+cell": {
     "cellMetadata": {
      "byteLimit": 2048000,
      "rowLimit": 10000
     },
     "inputWidgets": {},
     "nuid": "520e130f-d676-4e7c-885c-fffa857903fa",
     "showTitle": false,
     "title": ""
    }
   },
   "outputs": [],
   "source": [
    "\n",
    "\n",
    "pit_stops_df = spark.read.json(\"abfss://raw@formula1dl099.dfs.core.windows.net/pit_stops.json\",schema = pit_stops_schema, multiLine = True)"
   ]
  },
  {
   "cell_type": "code",
   "execution_count": 0,
   "metadata": {
    "application/vnd.databricks.v1+cell": {
     "cellMetadata": {
      "byteLimit": 2048000,
      "rowLimit": 10000
     },
     "inputWidgets": {},
     "nuid": "cc5a0f4e-0106-4999-b440-cdac2db37067",
     "showTitle": false,
     "title": ""
    }
   },
   "outputs": [
    {
     "output_type": "stream",
     "name": "stdout",
     "output_type": "stream",
     "text": [
      "+------+--------+----+---+--------+--------+------------+\n|raceId|driverId|stop|lap|    time|duration|milliseconds|\n+------+--------+----+---+--------+--------+------------+\n|   841|     153|   1|  1|17:05:23|  26.898|       26898|\n|   841|      30|   1|  1|17:05:52|  25.021|       25021|\n|   841|      17|   1| 11|17:20:48|  23.426|       23426|\n|   841|       4|   1| 12|17:22:34|  23.251|       23251|\n|   841|      13|   1| 13|17:24:10|  23.842|       23842|\n|   841|      22|   1| 13|17:24:29|  23.643|       23643|\n|   841|      20|   1| 14|17:25:17|  22.603|       22603|\n|   841|     814|   1| 14|17:26:03|  24.863|       24863|\n|   841|     816|   1| 14|17:26:50|  25.259|       25259|\n|   841|      67|   1| 15|17:27:34|  25.342|       25342|\n|   841|       2|   1| 15|17:27:41|  22.994|       22994|\n|   841|       1|   1| 16|17:28:24|  23.227|       23227|\n|   841|     808|   1| 16|17:28:39|  24.535|       24535|\n|   841|       3|   1| 16|17:29:00|  23.716|       23716|\n|   841|     155|   1| 16|17:29:06|  24.064|       24064|\n|   841|      16|   1| 16|17:29:08|  25.978|       25978|\n|   841|      15|   1| 16|17:29:49|  24.899|       24899|\n|   841|      18|   1| 17|17:30:24|  16.867|       16867|\n|   841|     153|   2| 17|17:31:06|  24.463|       24463|\n|   841|       5|   1| 17|17:31:11|  24.865|       24865|\n+------+--------+----+---+--------+--------+------------+\nonly showing top 20 rows\n\n"
     ]
    }
   ],
   "source": [
    "pit_stops_df.show()"
   ]
  },
  {
   "cell_type": "markdown",
   "metadata": {
    "application/vnd.databricks.v1+cell": {
     "cellMetadata": {},
     "inputWidgets": {},
     "nuid": "5c3e1518-fb7d-4bdb-a355-1c462af33cea",
     "showTitle": false,
     "title": ""
    }
   },
   "source": [
    "#### Step 2 - Rename columns and add new columns "
   ]
  },
  {
   "cell_type": "code",
   "execution_count": 0,
   "metadata": {
    "application/vnd.databricks.v1+cell": {
     "cellMetadata": {
      "byteLimit": 2048000,
      "rowLimit": 10000
     },
     "inputWidgets": {},
     "nuid": "664f9c53-4858-433c-960a-f0f2982c89f4",
     "showTitle": false,
     "title": ""
    }
   },
   "outputs": [],
   "source": [
    "from pyspark.sql.functions import current_timestamp\n",
    "\n",
    "\n",
    "\n",
    "final_df = pit_stops_df.withColumnRenamed(\"driverId\", \"driver_id\") \\\n",
    ".withColumnRenamed(\"raceId\", \"race_id\") \\\n",
    ".withColumn(\"ingestion_date\", current_timestamp())"
   ]
  },
  {
   "cell_type": "markdown",
   "metadata": {
    "application/vnd.databricks.v1+cell": {
     "cellMetadata": {},
     "inputWidgets": {},
     "nuid": "127f34c0-4b62-417d-ba3e-d573df35f07c",
     "showTitle": false,
     "title": ""
    }
   },
   "source": [
    "#### Step 3 - Write the o/p"
   ]
  },
  {
   "cell_type": "code",
   "execution_count": 0,
   "metadata": {
    "application/vnd.databricks.v1+cell": {
     "cellMetadata": {},
     "inputWidgets": {},
     "nuid": "b7fda207-621b-40a0-8912-6b98e24c3de8",
     "showTitle": false,
     "title": ""
    }
   },
   "outputs": [],
   "source": [
    "final_df.write.mode(\"overwrite\").parquet(\"abfss://processed@formula1dl099.dfs.core.windows.net/pit_stops\")\n"
   ]
  }
 ],
 "metadata": {
  "application/vnd.databricks.v1+notebook": {
   "dashboards": [],
   "language": "python",
   "notebookMetadata": {
    "pythonIndentUnit": 4
   },
   "notebookName": "6.ingest_pit_stops_file",
   "widgets": {}
  }
 },
 "nbformat": 4,
 "nbformat_minor": 0
}
